{
 "cells": [
  {
   "cell_type": "markdown",
   "metadata": {},
   "source": [
    "# Análise dos dados de reemboldo dos senadores - 2018"
   ]
  },
  {
   "cell_type": "code",
   "execution_count": 5,
   "metadata": {},
   "outputs": [],
   "source": [
    "# importando as libs\n",
    "import pandas as pd\n"
   ]
  },
  {
   "cell_type": "code",
   "execution_count": 15,
   "metadata": {},
   "outputs": [
    {
     "data": {
      "text/html": [
       "<div>\n",
       "<style scoped>\n",
       "    .dataframe tbody tr th:only-of-type {\n",
       "        vertical-align: middle;\n",
       "    }\n",
       "\n",
       "    .dataframe tbody tr th {\n",
       "        vertical-align: top;\n",
       "    }\n",
       "\n",
       "    .dataframe thead th {\n",
       "        text-align: right;\n",
       "    }\n",
       "</style>\n",
       "<table border=\"1\" class=\"dataframe\">\n",
       "  <thead>\n",
       "    <tr style=\"text-align: right;\">\n",
       "      <th></th>\n",
       "      <th>ANO</th>\n",
       "      <th>MES</th>\n",
       "      <th>SENADOR</th>\n",
       "      <th>TIPO_DESPESA</th>\n",
       "      <th>CNPJ_CPF</th>\n",
       "      <th>FORNECEDOR</th>\n",
       "      <th>DOCUMENTO</th>\n",
       "      <th>DATA</th>\n",
       "      <th>DETALHAMENTO</th>\n",
       "      <th>VALOR_REEMBOLSADO</th>\n",
       "    </tr>\n",
       "  </thead>\n",
       "  <tbody>\n",
       "    <tr>\n",
       "      <td>0</td>\n",
       "      <td>2018</td>\n",
       "      <td>1</td>\n",
       "      <td>ACIR GURGACZ</td>\n",
       "      <td>Aluguel de imóveis para escritório político, c...</td>\n",
       "      <td>004.948.028-63</td>\n",
       "      <td>GILBERTO PISELO DO NASCIMENTO</td>\n",
       "      <td>NaN</td>\n",
       "      <td>02/01/2018</td>\n",
       "      <td>Despesa com pagamento de aluguel de imóvel par...</td>\n",
       "      <td>6000.00</td>\n",
       "    </tr>\n",
       "    <tr>\n",
       "      <td>1</td>\n",
       "      <td>2018</td>\n",
       "      <td>1</td>\n",
       "      <td>ACIR GURGACZ</td>\n",
       "      <td>Passagens aéreas, aquáticas e terrestres nacio...</td>\n",
       "      <td>63.764.211/0001-10</td>\n",
       "      <td>TRANSCONTINENTAL AGÊNCIA DE VIAGENS LTDA</td>\n",
       "      <td>M2CJMM</td>\n",
       "      <td>02/01/2018</td>\n",
       "      <td>Companhia Aérea: AVIANCA, Localizador: M2CJMM....</td>\n",
       "      <td>274.99</td>\n",
       "    </tr>\n",
       "    <tr>\n",
       "      <td>2</td>\n",
       "      <td>2018</td>\n",
       "      <td>1</td>\n",
       "      <td>ACIR GURGACZ</td>\n",
       "      <td>Passagens aéreas, aquáticas e terrestres nacio...</td>\n",
       "      <td>63.764.211/0001-10</td>\n",
       "      <td>TRANSCONTINENTAL AGÊNCIA DE VIAGENS LTDA</td>\n",
       "      <td>SFEXYF</td>\n",
       "      <td>02/01/2018</td>\n",
       "      <td>Companhia Aérea: LATAM, Localizador: SFEXYF. P...</td>\n",
       "      <td>1094.29</td>\n",
       "    </tr>\n",
       "    <tr>\n",
       "      <td>3</td>\n",
       "      <td>2018</td>\n",
       "      <td>1</td>\n",
       "      <td>ACIR GURGACZ</td>\n",
       "      <td>Passagens aéreas, aquáticas e terrestres nacio...</td>\n",
       "      <td>63.764.211/0001-10</td>\n",
       "      <td>TRANSCONTINENTAL AGÊNCIA DE VIAGENS LTDA</td>\n",
       "      <td>V64HTR</td>\n",
       "      <td>24/01/2018</td>\n",
       "      <td>Companhia Aérea: AZUL, Localizador: V64HTR. Pa...</td>\n",
       "      <td>1553.99</td>\n",
       "    </tr>\n",
       "    <tr>\n",
       "      <td>4</td>\n",
       "      <td>2018</td>\n",
       "      <td>2</td>\n",
       "      <td>ACIR GURGACZ</td>\n",
       "      <td>Aluguel de imóveis para escritório político, c...</td>\n",
       "      <td>004.948.028-63</td>\n",
       "      <td>GILBERTO PISELO DO NASCIMENTO</td>\n",
       "      <td>002/18</td>\n",
       "      <td>01/02/2018</td>\n",
       "      <td>Despesa com pagamento de aluguel de imóvel par...</td>\n",
       "      <td>6000.00</td>\n",
       "    </tr>\n",
       "  </tbody>\n",
       "</table>\n",
       "</div>"
      ],
      "text/plain": [
       "    ANO  MES       SENADOR                                       TIPO_DESPESA  \\\n",
       "0  2018    1  ACIR GURGACZ  Aluguel de imóveis para escritório político, c...   \n",
       "1  2018    1  ACIR GURGACZ  Passagens aéreas, aquáticas e terrestres nacio...   \n",
       "2  2018    1  ACIR GURGACZ  Passagens aéreas, aquáticas e terrestres nacio...   \n",
       "3  2018    1  ACIR GURGACZ  Passagens aéreas, aquáticas e terrestres nacio...   \n",
       "4  2018    2  ACIR GURGACZ  Aluguel de imóveis para escritório político, c...   \n",
       "\n",
       "             CNPJ_CPF                                FORNECEDOR DOCUMENTO  \\\n",
       "0      004.948.028-63             GILBERTO PISELO DO NASCIMENTO       NaN   \n",
       "1  63.764.211/0001-10  TRANSCONTINENTAL AGÊNCIA DE VIAGENS LTDA    M2CJMM   \n",
       "2  63.764.211/0001-10  TRANSCONTINENTAL AGÊNCIA DE VIAGENS LTDA    SFEXYF   \n",
       "3  63.764.211/0001-10  TRANSCONTINENTAL AGÊNCIA DE VIAGENS LTDA    V64HTR   \n",
       "4      004.948.028-63             GILBERTO PISELO DO NASCIMENTO    002/18   \n",
       "\n",
       "         DATA                                       DETALHAMENTO  \\\n",
       "0  02/01/2018  Despesa com pagamento de aluguel de imóvel par...   \n",
       "1  02/01/2018  Companhia Aérea: AVIANCA, Localizador: M2CJMM....   \n",
       "2  02/01/2018  Companhia Aérea: LATAM, Localizador: SFEXYF. P...   \n",
       "3  24/01/2018  Companhia Aérea: AZUL, Localizador: V64HTR. Pa...   \n",
       "4  01/02/2018  Despesa com pagamento de aluguel de imóvel par...   \n",
       "\n",
       "   VALOR_REEMBOLSADO  \n",
       "0            6000.00  \n",
       "1             274.99  \n",
       "2            1094.29  \n",
       "3            1553.99  \n",
       "4            6000.00  "
      ]
     },
     "execution_count": 15,
     "metadata": {},
     "output_type": "execute_result"
    }
   ],
   "source": [
    "# carregando o arquivo \n",
    "# sep -> delimita o separador do dado\n",
    "# encoding -> tipo q foi salvo\n",
    "# skiprows -> define quantidade de linhas q irá pular (descartar)\n",
    "# decimal -> define o tipo de separador de casas decimais nos valores\n",
    "df = pd.read_csv(\"dados/ceaps_2018.csv\", sep=\";\", encoding=\"latin1\", skiprows=1, decimal=\",\")\n",
    "\n",
    "\n",
    "df.head()"
   ]
  },
  {
   "cell_type": "code",
   "execution_count": 18,
   "metadata": {},
   "outputs": [
    {
     "data": {
      "text/html": [
       "<div>\n",
       "<style scoped>\n",
       "    .dataframe tbody tr th:only-of-type {\n",
       "        vertical-align: middle;\n",
       "    }\n",
       "\n",
       "    .dataframe tbody tr th {\n",
       "        vertical-align: top;\n",
       "    }\n",
       "\n",
       "    .dataframe thead th {\n",
       "        text-align: right;\n",
       "    }\n",
       "</style>\n",
       "<table border=\"1\" class=\"dataframe\">\n",
       "  <thead>\n",
       "    <tr style=\"text-align: right;\">\n",
       "      <th></th>\n",
       "      <th>ANO</th>\n",
       "      <th>MES</th>\n",
       "      <th>SENADOR</th>\n",
       "      <th>TIPO_DESPESA</th>\n",
       "      <th>CNPJ_CPF</th>\n",
       "      <th>FORNECEDOR</th>\n",
       "      <th>DOCUMENTO</th>\n",
       "      <th>DATA</th>\n",
       "      <th>DETALHAMENTO</th>\n",
       "      <th>VALOR_REEMBOLSADO</th>\n",
       "    </tr>\n",
       "  </thead>\n",
       "  <tbody>\n",
       "    <tr>\n",
       "      <td>24487</td>\n",
       "      <td>2018</td>\n",
       "      <td>12</td>\n",
       "      <td>ZEZÉ PERRELLA</td>\n",
       "      <td>Locomoção, hospedagem, alimentação, combustíve...</td>\n",
       "      <td>16.979.906/0001-30</td>\n",
       "      <td>Posto Vila da Serra Ltda</td>\n",
       "      <td>398003</td>\n",
       "      <td>13/12/2018</td>\n",
       "      <td>NaN</td>\n",
       "      <td>220.05</td>\n",
       "    </tr>\n",
       "    <tr>\n",
       "      <td>24488</td>\n",
       "      <td>2018</td>\n",
       "      <td>12</td>\n",
       "      <td>ZEZÉ PERRELLA</td>\n",
       "      <td>Locomoção, hospedagem, alimentação, combustíve...</td>\n",
       "      <td>16.979.906/0001-30</td>\n",
       "      <td>Posto Vila da Serra Ltda</td>\n",
       "      <td>401813</td>\n",
       "      <td>19/12/2018</td>\n",
       "      <td>NaN</td>\n",
       "      <td>73.02</td>\n",
       "    </tr>\n",
       "    <tr>\n",
       "      <td>24489</td>\n",
       "      <td>2018</td>\n",
       "      <td>12</td>\n",
       "      <td>ZEZÉ PERRELLA</td>\n",
       "      <td>Locomoção, hospedagem, alimentação, combustíve...</td>\n",
       "      <td>16.979.906/0001-30</td>\n",
       "      <td>Posto Vila da Serra Ltda</td>\n",
       "      <td>401714</td>\n",
       "      <td>19/12/2018</td>\n",
       "      <td>NaN</td>\n",
       "      <td>232.01</td>\n",
       "    </tr>\n",
       "    <tr>\n",
       "      <td>24490</td>\n",
       "      <td>2018</td>\n",
       "      <td>12</td>\n",
       "      <td>ZEZÉ PERRELLA</td>\n",
       "      <td>Passagens aéreas, aquáticas e terrestres nacio...</td>\n",
       "      <td>16.978.175/0001-08</td>\n",
       "      <td>Adria Viagens e Turismo Ltda</td>\n",
       "      <td>CI5PSK</td>\n",
       "      <td>05/12/2018</td>\n",
       "      <td>Companhia Aérea: AZUL, Localizador: CI5PSK. Pa...</td>\n",
       "      <td>1132.69</td>\n",
       "    </tr>\n",
       "    <tr>\n",
       "      <td>24491</td>\n",
       "      <td>2018</td>\n",
       "      <td>12</td>\n",
       "      <td>ZEZÉ PERRELLA</td>\n",
       "      <td>Passagens aéreas, aquáticas e terrestres nacio...</td>\n",
       "      <td>16.978.175/0001-08</td>\n",
       "      <td>Adria Viagens e Turismo Ltda</td>\n",
       "      <td>OHNRAG</td>\n",
       "      <td>17/12/2018</td>\n",
       "      <td>Companhia Aérea: LATAM, Localizador: OHNRAG. P...</td>\n",
       "      <td>1260.45</td>\n",
       "    </tr>\n",
       "  </tbody>\n",
       "</table>\n",
       "</div>"
      ],
      "text/plain": [
       "        ANO  MES        SENADOR  \\\n",
       "24487  2018   12  ZEZÉ PERRELLA   \n",
       "24488  2018   12  ZEZÉ PERRELLA   \n",
       "24489  2018   12  ZEZÉ PERRELLA   \n",
       "24490  2018   12  ZEZÉ PERRELLA   \n",
       "24491  2018   12  ZEZÉ PERRELLA   \n",
       "\n",
       "                                            TIPO_DESPESA            CNPJ_CPF  \\\n",
       "24487  Locomoção, hospedagem, alimentação, combustíve...  16.979.906/0001-30   \n",
       "24488  Locomoção, hospedagem, alimentação, combustíve...  16.979.906/0001-30   \n",
       "24489  Locomoção, hospedagem, alimentação, combustíve...  16.979.906/0001-30   \n",
       "24490  Passagens aéreas, aquáticas e terrestres nacio...  16.978.175/0001-08   \n",
       "24491  Passagens aéreas, aquáticas e terrestres nacio...  16.978.175/0001-08   \n",
       "\n",
       "                         FORNECEDOR DOCUMENTO        DATA  \\\n",
       "24487      Posto Vila da Serra Ltda    398003  13/12/2018   \n",
       "24488      Posto Vila da Serra Ltda    401813  19/12/2018   \n",
       "24489      Posto Vila da Serra Ltda    401714  19/12/2018   \n",
       "24490  Adria Viagens e Turismo Ltda    CI5PSK  05/12/2018   \n",
       "24491  Adria Viagens e Turismo Ltda    OHNRAG  17/12/2018   \n",
       "\n",
       "                                            DETALHAMENTO  VALOR_REEMBOLSADO  \n",
       "24487                                                NaN             220.05  \n",
       "24488                                                NaN              73.02  \n",
       "24489                                                NaN             232.01  \n",
       "24490  Companhia Aérea: AZUL, Localizador: CI5PSK. Pa...            1132.69  \n",
       "24491  Companhia Aérea: LATAM, Localizador: OHNRAG. P...            1260.45  "
      ]
     },
     "execution_count": 18,
     "metadata": {},
     "output_type": "execute_result"
    }
   ],
   "source": [
    "df.tail()"
   ]
  },
  {
   "cell_type": "code",
   "execution_count": 19,
   "metadata": {},
   "outputs": [
    {
     "name": "stdout",
     "output_type": "stream",
     "text": [
      "<class 'pandas.core.frame.DataFrame'>\n",
      "RangeIndex: 24492 entries, 0 to 24491\n",
      "Data columns (total 10 columns):\n",
      "ANO                  24492 non-null int64\n",
      "MES                  24492 non-null int64\n",
      "SENADOR              24492 non-null object\n",
      "TIPO_DESPESA         24492 non-null object\n",
      "CNPJ_CPF             24492 non-null object\n",
      "FORNECEDOR           24492 non-null object\n",
      "DOCUMENTO            23476 non-null object\n",
      "DATA                 24492 non-null object\n",
      "DETALHAMENTO         18882 non-null object\n",
      "VALOR_REEMBOLSADO    24492 non-null float64\n",
      "dtypes: float64(1), int64(2), object(7)\n",
      "memory usage: 1.9+ MB\n"
     ]
    }
   ],
   "source": [
    "# verificar tamanho e tipos\n",
    "df.info()"
   ]
  },
  {
   "cell_type": "code",
   "execution_count": 20,
   "metadata": {},
   "outputs": [
    {
     "data": {
      "text/html": [
       "<div>\n",
       "<style scoped>\n",
       "    .dataframe tbody tr th:only-of-type {\n",
       "        vertical-align: middle;\n",
       "    }\n",
       "\n",
       "    .dataframe tbody tr th {\n",
       "        vertical-align: top;\n",
       "    }\n",
       "\n",
       "    .dataframe thead th {\n",
       "        text-align: right;\n",
       "    }\n",
       "</style>\n",
       "<table border=\"1\" class=\"dataframe\">\n",
       "  <thead>\n",
       "    <tr style=\"text-align: right;\">\n",
       "      <th></th>\n",
       "      <th>ANO</th>\n",
       "      <th>MES</th>\n",
       "      <th>VALOR_REEMBOLSADO</th>\n",
       "    </tr>\n",
       "  </thead>\n",
       "  <tbody>\n",
       "    <tr>\n",
       "      <td>count</td>\n",
       "      <td>24492.0</td>\n",
       "      <td>24492.000000</td>\n",
       "      <td>24492.000000</td>\n",
       "    </tr>\n",
       "    <tr>\n",
       "      <td>mean</td>\n",
       "      <td>2018.0</td>\n",
       "      <td>6.192226</td>\n",
       "      <td>1045.431215</td>\n",
       "    </tr>\n",
       "    <tr>\n",
       "      <td>std</td>\n",
       "      <td>0.0</td>\n",
       "      <td>3.305847</td>\n",
       "      <td>2718.840577</td>\n",
       "    </tr>\n",
       "    <tr>\n",
       "      <td>min</td>\n",
       "      <td>2018.0</td>\n",
       "      <td>1.000000</td>\n",
       "      <td>0.010000</td>\n",
       "    </tr>\n",
       "    <tr>\n",
       "      <td>25%</td>\n",
       "      <td>2018.0</td>\n",
       "      <td>3.000000</td>\n",
       "      <td>125.000000</td>\n",
       "    </tr>\n",
       "    <tr>\n",
       "      <td>50%</td>\n",
       "      <td>2018.0</td>\n",
       "      <td>6.000000</td>\n",
       "      <td>287.200000</td>\n",
       "    </tr>\n",
       "    <tr>\n",
       "      <td>75%</td>\n",
       "      <td>2018.0</td>\n",
       "      <td>9.000000</td>\n",
       "      <td>1032.005000</td>\n",
       "    </tr>\n",
       "    <tr>\n",
       "      <td>max</td>\n",
       "      <td>2018.0</td>\n",
       "      <td>12.000000</td>\n",
       "      <td>103900.000000</td>\n",
       "    </tr>\n",
       "  </tbody>\n",
       "</table>\n",
       "</div>"
      ],
      "text/plain": [
       "           ANO           MES  VALOR_REEMBOLSADO\n",
       "count  24492.0  24492.000000       24492.000000\n",
       "mean    2018.0      6.192226        1045.431215\n",
       "std        0.0      3.305847        2718.840577\n",
       "min     2018.0      1.000000           0.010000\n",
       "25%     2018.0      3.000000         125.000000\n",
       "50%     2018.0      6.000000         287.200000\n",
       "75%     2018.0      9.000000        1032.005000\n",
       "max     2018.0     12.000000      103900.000000"
      ]
     },
     "execution_count": 20,
     "metadata": {},
     "output_type": "execute_result"
    }
   ],
   "source": [
    "# mostrar análise quantitativas dos dados\n",
    "df.describe()"
   ]
  },
  {
   "cell_type": "markdown",
   "metadata": {},
   "source": [
    "# Qual o total de reenbolso"
   ]
  },
  {
   "cell_type": "code",
   "execution_count": 24,
   "metadata": {},
   "outputs": [
    {
     "data": {
      "text/plain": [
       "25604701.33"
      ]
     },
     "execution_count": 24,
     "metadata": {},
     "output_type": "execute_result"
    }
   ],
   "source": [
    "df[\"VALOR_REEMBOLSADO\"].sum()"
   ]
  },
  {
   "cell_type": "code",
   "execution_count": 26,
   "metadata": {},
   "outputs": [
    {
     "data": {
      "text/plain": [
       "EDUARDO LOPES          864\n",
       "PAULO BAUER            824\n",
       "WELLINGTON FAGUNDES    800\n",
       "JOSÉ SERRA             715\n",
       "GLEISI HOFFMANN        653\n",
       "                      ... \n",
       "ALVARO DIAS             40\n",
       "FERNANDO COLLOR         27\n",
       "JADER BARBALHO          19\n",
       "CRISTOVAM BUARQUE       16\n",
       "ZÉ SANTANA               8\n",
       "Name: SENADOR, Length: 91, dtype: int64"
      ]
     },
     "execution_count": 26,
     "metadata": {},
     "output_type": "execute_result"
    }
   ],
   "source": [
    "# quantos reembolsos foram solicitados pelos senadores\n",
    "df[\"SENADOR\"].value_counts()"
   ]
  },
  {
   "cell_type": "code",
   "execution_count": 28,
   "metadata": {},
   "outputs": [
    {
     "data": {
      "text/plain": [
       "SENADOR\n",
       "EDUARDO BRAGA         529599.18\n",
       "VANESSA GRAZZIOTIN    515969.63\n",
       "JOÃO CAPIBERIBE       513333.90\n",
       "ÂNGELA PORTELA        485806.44\n",
       "OMAR AZIZ             484143.98\n",
       "                        ...    \n",
       "ALVARO DIAS            44037.88\n",
       "WALTER PINHEIRO        32733.67\n",
       "CRISTOVAM BUARQUE      32400.00\n",
       "ZÉ SANTANA             23300.67\n",
       "IONE GUIMARÃES         11379.91\n",
       "Name: VALOR_REEMBOLSADO, Length: 91, dtype: float64"
      ]
     },
     "execution_count": 28,
     "metadata": {},
     "output_type": "execute_result"
    }
   ],
   "source": [
    "# quanto cada senador solicitou de reembolso em 2018\n",
    "df.groupby(\"SENADOR\")[\"VALOR_REEMBOLSADO\"].sum().sort_values(ascending=False)"
   ]
  },
  {
   "cell_type": "code",
   "execution_count": 30,
   "metadata": {},
   "outputs": [
    {
     "data": {
      "text/plain": [
       "TIPO_DESPESA\n",
       "Passagens aéreas, aquáticas e terrestres nacionais                                                                                                                                                 6335284.94\n",
       "Locomoção, hospedagem, alimentação, combustíveis e lubrificantes                                                                                                                                   5620092.84\n",
       "Aluguel de imóveis para escritório político, compreendendo despesas concernentes a eles.                                                                                                           5041438.25\n",
       "Contratação de consultorias, assessorias, pesquisas, trabalhos técnicos e outros serviços de apoio ao exercício do mandato parlamentar                                                             4966449.41\n",
       "Divulgação da atividade parlamentar                                                                                                                                                                2568910.24\n",
       "Aquisição de material de consumo para uso no escritório político, inclusive aquisição ou locação de software, despesas postais, aquisição de publicações, locação de móveis e de equipamentos.      900312.04\n",
       "Serviços de Segurança Privada                                                                                                                                                                       172213.61\n",
       "Name: VALOR_REEMBOLSADO, dtype: float64"
      ]
     },
     "execution_count": 30,
     "metadata": {},
     "output_type": "execute_result"
    }
   ],
   "source": [
    "# quanto foi reembolsado por cada tipo de despesa\n",
    "df.groupby(\"TIPO_DESPESA\")[\"VALOR_REEMBOLSADO\"].sum().sort_values(ascending=False)"
   ]
  },
  {
   "cell_type": "code",
   "execution_count": null,
   "metadata": {},
   "outputs": [],
   "source": []
  }
 ],
 "metadata": {
  "kernelspec": {
   "display_name": "Python 3",
   "language": "python",
   "name": "python3"
  },
  "language_info": {
   "codemirror_mode": {
    "name": "ipython",
    "version": 3
   },
   "file_extension": ".py",
   "mimetype": "text/x-python",
   "name": "python",
   "nbconvert_exporter": "python",
   "pygments_lexer": "ipython3",
   "version": "3.7.4"
  }
 },
 "nbformat": 4,
 "nbformat_minor": 2
}
