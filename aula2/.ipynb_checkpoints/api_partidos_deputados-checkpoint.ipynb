{
 "cells": [
  {
   "cell_type": "markdown",
   "metadata": {},
   "source": [
    "# Análise dos dados da API de partidos \n",
    "obitidos pela API da camara dos deputados\n",
    "\n",
    "link -> https://dadosabertos.camara.leg.br/api/v2/partidos?itens=100&ordem=ASC&ordenarPor=sigla"
   ]
  },
  {
   "cell_type": "code",
   "execution_count": 5,
   "metadata": {},
   "outputs": [],
   "source": [
    "# import libs\n",
    "\n",
    "import pandas as pd\n",
    "import requests"
   ]
  },
  {
   "cell_type": "code",
   "execution_count": 9,
   "metadata": {},
   "outputs": [],
   "source": [
    "# obter os dados da api da camara\n",
    "# variavel url\n",
    "url = \"https://dadosabertos.camara.leg.br/api/v2/partidos?itens=100&ordem=ASC&ordenarPor=sigla\"\n",
    "\n",
    "# obter os dados\n",
    "resposta = requests.get(url)\n",
    "\n",
    "# verificar a resposta\n",
    " #resposta.text"
   ]
  },
  {
   "cell_type": "code",
   "execution_count": 16,
   "metadata": {},
   "outputs": [
    {
     "data": {
      "text/html": [
       "<div>\n",
       "<style scoped>\n",
       "    .dataframe tbody tr th:only-of-type {\n",
       "        vertical-align: middle;\n",
       "    }\n",
       "\n",
       "    .dataframe tbody tr th {\n",
       "        vertical-align: top;\n",
       "    }\n",
       "\n",
       "    .dataframe thead th {\n",
       "        text-align: right;\n",
       "    }\n",
       "</style>\n",
       "<table border=\"1\" class=\"dataframe\">\n",
       "  <thead>\n",
       "    <tr style=\"text-align: right;\">\n",
       "      <th></th>\n",
       "      <th>id</th>\n",
       "      <th>sigla</th>\n",
       "      <th>nome</th>\n",
       "      <th>uri</th>\n",
       "    </tr>\n",
       "  </thead>\n",
       "  <tbody>\n",
       "    <tr>\n",
       "      <td>0</td>\n",
       "      <td>36898</td>\n",
       "      <td>AVANTE</td>\n",
       "      <td>Avante</td>\n",
       "      <td>https://dadosabertos.camara.leg.br/api/v2/part...</td>\n",
       "    </tr>\n",
       "    <tr>\n",
       "      <td>1</td>\n",
       "      <td>37905</td>\n",
       "      <td>CIDADANIA</td>\n",
       "      <td>Cidadania</td>\n",
       "      <td>https://dadosabertos.camara.leg.br/api/v2/part...</td>\n",
       "    </tr>\n",
       "    <tr>\n",
       "      <td>2</td>\n",
       "      <td>37902</td>\n",
       "      <td>DC</td>\n",
       "      <td>Democracia Cristã</td>\n",
       "      <td>https://dadosabertos.camara.leg.br/api/v2/part...</td>\n",
       "    </tr>\n",
       "    <tr>\n",
       "      <td>3</td>\n",
       "      <td>36769</td>\n",
       "      <td>DEM</td>\n",
       "      <td>Democratas</td>\n",
       "      <td>https://dadosabertos.camara.leg.br/api/v2/part...</td>\n",
       "    </tr>\n",
       "    <tr>\n",
       "      <td>4</td>\n",
       "      <td>36899</td>\n",
       "      <td>MDB</td>\n",
       "      <td>Movimento Democrático Brasileiro</td>\n",
       "      <td>https://dadosabertos.camara.leg.br/api/v2/part...</td>\n",
       "    </tr>\n",
       "  </tbody>\n",
       "</table>\n",
       "</div>"
      ],
      "text/plain": [
       "      id      sigla                              nome  \\\n",
       "0  36898     AVANTE                            Avante   \n",
       "1  37905  CIDADANIA                         Cidadania   \n",
       "2  37902         DC                 Democracia Cristã   \n",
       "3  36769        DEM                        Democratas   \n",
       "4  36899        MDB  Movimento Democrático Brasileiro   \n",
       "\n",
       "                                                 uri  \n",
       "0  https://dadosabertos.camara.leg.br/api/v2/part...  \n",
       "1  https://dadosabertos.camara.leg.br/api/v2/part...  \n",
       "2  https://dadosabertos.camara.leg.br/api/v2/part...  \n",
       "3  https://dadosabertos.camara.leg.br/api/v2/part...  \n",
       "4  https://dadosabertos.camara.leg.br/api/v2/part...  "
      ]
     },
     "execution_count": 16,
     "metadata": {},
     "output_type": "execute_result"
    }
   ],
   "source": [
    "# dados , links\n",
    "# transformando resposta em DataFrame filtrando somente pelos dados\n",
    "df = pd.DataFrame(resposta.json()[\"dados\"])\n",
    "\n",
    "# mostrando o head do df\n",
    "df.head()"
   ]
  },
  {
   "cell_type": "code",
   "execution_count": 18,
   "metadata": {},
   "outputs": [
    {
     "data": {
      "text/plain": [
       "40"
      ]
     },
     "execution_count": 18,
     "metadata": {},
     "output_type": "execute_result"
    }
   ],
   "source": [
    "# qual o numero atual de partidos politicos\n",
    "df[\"sigla\"].count()"
   ]
  },
  {
   "cell_type": "code",
   "execution_count": 19,
   "metadata": {},
   "outputs": [
    {
     "data": {
      "text/plain": [
       "0                                             Avante\n",
       "1                                          Cidadania\n",
       "2                                  Democracia Cristã\n",
       "3                                         Democratas\n",
       "4                   Movimento Democrático Brasileiro\n",
       "5                                       Partido Novo\n",
       "6                                           Patriota\n",
       "7                                           Patriota\n",
       "8              Partido Constitucionalista Brasileiro\n",
       "9                        Partido Comunista do Brasil\n",
       "10                         Partido da Causa Operária\n",
       "11                   Partido Democrático Trabalhista\n",
       "12                Partido Humanista da Solidariedade\n",
       "13                                   Partido Liberal\n",
       "14                      Partido da Mulher Brasileira\n",
       "15                   Partido da Mobilização Nacional\n",
       "16                                           Podemos\n",
       "17                                     Progressistas\n",
       "18                              Partido Pátria Livre\n",
       "19                        Partido Popular Socialista\n",
       "20                              Partido da República\n",
       "21                    Partido Republicano Brasileiro\n",
       "22               Partido Republicano da Ordem Social\n",
       "23                  Partido Republicano Progressista\n",
       "24          Partido Renovador Trabalhista Brasileiro\n",
       "25                     Partido Socialista Brasileiro\n",
       "26                            Partido Social Cristão\n",
       "27                        Partido Social Democrático\n",
       "28           Partido da Social Democracia Brasileira\n",
       "29                            Partido Social Liberal\n",
       "30                    Partido Socialismo e Liberdade\n",
       "31    Partido Socialista dos Trabalhadores Unificado\n",
       "32                         Partido dos Trabalhadores\n",
       "33                    Partido Trabalhista Brasileiro\n",
       "34                       Partido Trabalhista Cristão\n",
       "35                                     Partido Verde\n",
       "36                             Rede Sustentabilidade\n",
       "37                                      Republicanos\n",
       "38                                       Sem Partido\n",
       "39                                     Solidariedade\n",
       "Name: nome, dtype: object"
      ]
     },
     "execution_count": 19,
     "metadata": {},
     "output_type": "execute_result"
    }
   ],
   "source": [
    "df[\"nome\"]"
   ]
  },
  {
   "cell_type": "code",
   "execution_count": 21,
   "metadata": {},
   "outputs": [
    {
     "data": {
      "text/plain": [
       "'https://dadosabertos.camara.leg.br/api/v2/partidos/36898'"
      ]
     },
     "execution_count": 21,
     "metadata": {},
     "output_type": "execute_result"
    }
   ],
   "source": [
    "# qual campo do DataFrame pode ser obitido usando as funções de localização\n",
    "\n",
    "# o iloc -> retorna um campo com base no seu indece do tipo [linha, coluna]\n",
    " # permite pegar um campo dentro do DataFrame (seja ele onde estiver dentro do mesmo)\n",
    "    # exemplo [linha, coluna] df.iloc[300, 3]\n",
    "df.iloc[0, 3]"
   ]
  },
  {
   "cell_type": "code",
   "execution_count": 22,
   "metadata": {},
   "outputs": [
    {
     "data": {
      "text/plain": [
       "'https://dadosabertos.camara.leg.br/api/v2/partidos/36898'"
      ]
     },
     "execution_count": 22,
     "metadata": {},
     "output_type": "execute_result"
    }
   ],
   "source": [
    "# o loc -> retorna um campo com base no nome da coluna\n",
    " # permite pegar o campo dentro do DataFrame (seja ele onde estiver dentro do mesmo)\n",
    "    # exemplo [linha, coluna] df.loc[200, \"uri\"]\n",
    "df.loc[0, \"uri\"]"
   ]
  }
 ],
 "metadata": {
  "kernelspec": {
   "display_name": "Python 3",
   "language": "python",
   "name": "python3"
  },
  "language_info": {
   "codemirror_mode": {
    "name": "ipython",
    "version": 3
   },
   "file_extension": ".py",
   "mimetype": "text/x-python",
   "name": "python",
   "nbconvert_exporter": "python",
   "pygments_lexer": "ipython3",
   "version": "3.7.4"
  }
 },
 "nbformat": 4,
 "nbformat_minor": 2
}
