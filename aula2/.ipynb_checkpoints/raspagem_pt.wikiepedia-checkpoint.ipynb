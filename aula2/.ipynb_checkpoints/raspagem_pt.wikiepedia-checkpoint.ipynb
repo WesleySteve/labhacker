{
 "cells": [
  {
   "cell_type": "markdown",
   "metadata": {},
   "source": [
    "# Análise de dados da Copa do mundo\n",
    "Com base na pagina sobre a Copa do Mundo na Wipedia vamos obter os dados \n",
    "de publico pagante em cada final\n",
    "\n",
    "link -> https://pt.wikipedia.org/wiki/Copa_do_Mundo_FIFA"
   ]
  },
  {
   "cell_type": "code",
   "execution_count": 10,
   "metadata": {},
   "outputs": [],
   "source": [
    "# importando as libs\n",
    "\n",
    "import pandas as pd\n",
    "import requests\n",
    "\n",
    "# url\n",
    "url = \"https://pt.wikipedia.org/wiki/Copa_do_Mundo_FIFA\"\n",
    "\n",
    "# requisitar a pagina\n",
    "resposta = requests.get(url)\n",
    "\n",
    "# obter a resposta em formato HTML\n",
    "site = pd.read_html(resposta.text)"
   ]
  },
  {
   "cell_type": "code",
   "execution_count": 20,
   "metadata": {},
   "outputs": [
    {
     "data": {
      "text/html": [
       "<div>\n",
       "<style scoped>\n",
       "    .dataframe tbody tr th:only-of-type {\n",
       "        vertical-align: middle;\n",
       "    }\n",
       "\n",
       "    .dataframe tbody tr th {\n",
       "        vertical-align: top;\n",
       "    }\n",
       "\n",
       "    .dataframe thead th {\n",
       "        text-align: right;\n",
       "    }\n",
       "</style>\n",
       "<table border=\"1\" class=\"dataframe\">\n",
       "  <thead>\n",
       "    <tr style=\"text-align: right;\">\n",
       "      <th></th>\n",
       "      <th>Edição</th>\n",
       "      <th>Ano</th>\n",
       "      <th>Estádio</th>\n",
       "      <th>Local</th>\n",
       "      <th>Público pagante</th>\n",
       "    </tr>\n",
       "  </thead>\n",
       "  <tbody>\n",
       "    <tr>\n",
       "      <td>0</td>\n",
       "      <td>I</td>\n",
       "      <td>1930</td>\n",
       "      <td>Estádio Centenário</td>\n",
       "      <td>Montevidéu</td>\n",
       "      <td>68</td>\n",
       "    </tr>\n",
       "    <tr>\n",
       "      <td>1</td>\n",
       "      <td>II</td>\n",
       "      <td>1934</td>\n",
       "      <td>Estádio do Partido Nacional Fascista</td>\n",
       "      <td>Roma</td>\n",
       "      <td>55</td>\n",
       "    </tr>\n",
       "    <tr>\n",
       "      <td>2</td>\n",
       "      <td>III</td>\n",
       "      <td>1938</td>\n",
       "      <td>Estádio Olímpico Yves-du-Manoir</td>\n",
       "      <td>Colombes</td>\n",
       "      <td>45</td>\n",
       "    </tr>\n",
       "    <tr>\n",
       "      <td>3</td>\n",
       "      <td>IV</td>\n",
       "      <td>1950</td>\n",
       "      <td>Estádio do Maracanã</td>\n",
       "      <td>Rio de Janeiro</td>\n",
       "      <td>173</td>\n",
       "    </tr>\n",
       "    <tr>\n",
       "      <td>4</td>\n",
       "      <td>V</td>\n",
       "      <td>1954</td>\n",
       "      <td>Estádio Wankdorf</td>\n",
       "      <td>Berna</td>\n",
       "      <td>62</td>\n",
       "    </tr>\n",
       "  </tbody>\n",
       "</table>\n",
       "</div>"
      ],
      "text/plain": [
       "  Edição   Ano                               Estádio           Local  \\\n",
       "0      I  1930                    Estádio Centenário      Montevidéu   \n",
       "1     II  1934  Estádio do Partido Nacional Fascista            Roma   \n",
       "2    III  1938       Estádio Olímpico Yves-du-Manoir        Colombes   \n",
       "3     IV  1950                   Estádio do Maracanã  Rio de Janeiro   \n",
       "4      V  1954                      Estádio Wankdorf           Berna   \n",
       "\n",
       "   Público pagante  \n",
       "0               68  \n",
       "1               55  \n",
       "2               45  \n",
       "3              173  \n",
       "4               62  "
      ]
     },
     "execution_count": 20,
     "metadata": {},
     "output_type": "execute_result"
    }
   ],
   "source": [
    "# pegar a tabela com os pagantes por final\n",
    "# essa é a 12 tabela dos dados retornados\n",
    "\n",
    "# o DataFrame será apenas a tabela 12\n",
    "df = site[11]\n",
    "\n",
    "# head\n",
    "df.head()"
   ]
  },
  {
   "cell_type": "code",
   "execution_count": 12,
   "metadata": {},
   "outputs": [],
   "source": [
    "# mudando os nomes das colunas\n",
    " # df.iloc[0] -> pega a linha inteira \n",
    " # df.columns esta recebendo esse valor\n",
    "#df.columns = df.iloc[0]"
   ]
  },
  {
   "cell_type": "code",
   "execution_count": 13,
   "metadata": {},
   "outputs": [],
   "source": [
    "# apagando a primeira linha \n",
    " # implace => significa executar o comando drop neste DataFrame\n",
    "#df.drop(df.index[0], inplace=True)"
   ]
  },
  {
   "cell_type": "code",
   "execution_count": 23,
   "metadata": {},
   "outputs": [
    {
     "name": "stdout",
     "output_type": "stream",
     "text": [
      "<class 'pandas.core.frame.DataFrame'>\n",
      "RangeIndex: 21 entries, 0 to 20\n",
      "Data columns (total 5 columns):\n",
      "Edição             21 non-null object\n",
      "Ano                21 non-null int64\n",
      "Estádio            21 non-null object\n",
      "Local              21 non-null object\n",
      "Público pagante    21 non-null float64\n",
      "dtypes: float64(1), int64(1), object(3)\n",
      "memory usage: 968.0+ bytes\n"
     ]
    }
   ],
   "source": [
    "# tipos das colunas\n",
    "df.info()"
   ]
  },
  {
   "cell_type": "code",
   "execution_count": 22,
   "metadata": {},
   "outputs": [],
   "source": [
    "# converter a coluna Publico pagando para int\n",
    "#df[\"Público pagante\"] = df[\"Público pagante\"].astype(int)"
   ]
  },
  {
   "cell_type": "code",
   "execution_count": 25,
   "metadata": {},
   "outputs": [],
   "source": [
    "# construir um grafico com a evolução do publico pagante\n",
    "\n",
    "# lib de grafico\n",
    "import seaborn as sns\n",
    "from matplotlib import pyplot as plt\n",
    "\n",
    "%matplotlib inline"
   ]
  },
  {
   "cell_type": "code",
   "execution_count": 27,
   "metadata": {},
   "outputs": [
    {
     "data": {
      "image/png": "[encoded data removed]",
      "text/plain": [
       "<Figure size 432x288 with 1 Axes>"
      ]
     },
     "metadata": {
      "needs_background": "light"
     },
     "output_type": "display_data"
    }
   ],
   "source": [
    "# exibindo o grafico de linhas com marcação em cada ponto\n",
    "sns.pointplot(x=\"Ano\", y=\"Público pagante\", data=df)\n",
    "\n",
    "# ajustando as legendas\n",
    " # rotation 65 graus\n",
    "plt.xticks(rotation=65)\n",
    "plt.show()"
   ]
  }
 ],
 "metadata": {
  "kernelspec": {
   "display_name": "Python 3",
   "language": "python",
   "name": "python3"
  },
  "language_info": {
   "codemirror_mode": {
    "name": "ipython",
    "version": 3
   },
   "file_extension": ".py",
   "mimetype": "text/x-python",
   "name": "python",
   "nbconvert_exporter": "python",
   "pygments_lexer": "ipython3",
   "version": "3.7.4"
  }
 },
 "nbformat": 4,
 "nbformat_minor": 2
}
