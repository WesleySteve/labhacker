{
 "cells": [
  {
   "cell_type": "code",
   "execution_count": 1,
   "metadata": {},
   "outputs": [],
   "source": [
    "# Importando libs"
   ]
  },
  {
   "cell_type": "code",
   "execution_count": 2,
   "metadata": {},
   "outputs": [],
   "source": [
    "import pandas as pd"
   ]
  },
  {
   "cell_type": "code",
   "execution_count": 3,
   "metadata": {},
   "outputs": [],
   "source": [
    "# importando o arquivo"
   ]
  },
  {
   "cell_type": "code",
   "execution_count": 4,
   "metadata": {},
   "outputs": [],
   "source": [
    "df = pd.read_csv(\"Unidades_da_Rede_Federal_de_EPCT.csv\")"
   ]
  },
  {
   "cell_type": "code",
   "execution_count": 5,
   "metadata": {},
   "outputs": [],
   "source": [
    "# matplotlib \n",
    "%matplotlib inline"
   ]
  },
  {
   "cell_type": "code",
   "execution_count": 6,
   "metadata": {},
   "outputs": [
    {
     "data": {
      "text/html": [
       "<div>\n",
       "<style scoped>\n",
       "    .dataframe tbody tr th:only-of-type {\n",
       "        vertical-align: middle;\n",
       "    }\n",
       "\n",
       "    .dataframe tbody tr th {\n",
       "        vertical-align: top;\n",
       "    }\n",
       "\n",
       "    .dataframe thead th {\n",
       "        text-align: right;\n",
       "    }\n",
       "</style>\n",
       "<table border=\"1\" class=\"dataframe\">\n",
       "  <thead>\n",
       "    <tr style=\"text-align: right;\">\n",
       "      <th></th>\n",
       "      <th>sigla_unidade_ensino</th>\n",
       "      <th>nome_unidade_ensino</th>\n",
       "      <th>dt_autorizacao</th>\n",
       "      <th>sigla_uf_unidade_ensino</th>\n",
       "      <th>nome_municipio_unidade_ensino</th>\n",
       "    </tr>\n",
       "  </thead>\n",
       "  <tbody>\n",
       "    <tr>\n",
       "      <td>0</td>\n",
       "      <td>NaN</td>\n",
       "      <td>ASSOCIAÇÃO TÉCNICO EDUCACIONAL EQUIPE</td>\n",
       "      <td>03/02/2015 17:31:40</td>\n",
       "      <td>RS</td>\n",
       "      <td>Sapucaia do Sul</td>\n",
       "    </tr>\n",
       "    <tr>\n",
       "      <td>1</td>\n",
       "      <td>NaN</td>\n",
       "      <td>CEFET DO MARANHAO</td>\n",
       "      <td>14/02/2014 19:44:56</td>\n",
       "      <td>MA</td>\n",
       "      <td>Tutóia</td>\n",
       "    </tr>\n",
       "    <tr>\n",
       "      <td>2</td>\n",
       "      <td>NaN</td>\n",
       "      <td>CEFET MG CAMPUS II</td>\n",
       "      <td>23/06/2010 14:27:47</td>\n",
       "      <td>MG</td>\n",
       "      <td>Belo Horizonte</td>\n",
       "    </tr>\n",
       "    <tr>\n",
       "      <td>3</td>\n",
       "      <td>NaN</td>\n",
       "      <td>CEFET-MG/campusV/Divinópolis</td>\n",
       "      <td>06/04/2009 08:07:15</td>\n",
       "      <td>MG</td>\n",
       "      <td>Divinópolis</td>\n",
       "    </tr>\n",
       "    <tr>\n",
       "      <td>4</td>\n",
       "      <td>NaN</td>\n",
       "      <td>CEFET - MG UNED contagem</td>\n",
       "      <td>21/03/2012 16:58:14</td>\n",
       "      <td>MG</td>\n",
       "      <td>Contagem</td>\n",
       "    </tr>\n",
       "  </tbody>\n",
       "</table>\n",
       "</div>"
      ],
      "text/plain": [
       "  sigla_unidade_ensino                     nome_unidade_ensino  \\\n",
       "0                  NaN  ASSOCIAÇÃO TÉCNICO EDUCACIONAL EQUIPE    \n",
       "1                  NaN                       CEFET DO MARANHAO   \n",
       "2                  NaN                      CEFET MG CAMPUS II   \n",
       "3                  NaN            CEFET-MG/campusV/Divinópolis   \n",
       "4                  NaN                CEFET - MG UNED contagem   \n",
       "\n",
       "        dt_autorizacao sigla_uf_unidade_ensino nome_municipio_unidade_ensino  \n",
       "0  03/02/2015 17:31:40                      RS               Sapucaia do Sul  \n",
       "1  14/02/2014 19:44:56                      MA                        Tutóia  \n",
       "2  23/06/2010 14:27:47                      MG                Belo Horizonte  \n",
       "3  06/04/2009 08:07:15                      MG                   Divinópolis  \n",
       "4  21/03/2012 16:58:14                      MG                      Contagem  "
      ]
     },
     "execution_count": 6,
     "metadata": {},
     "output_type": "execute_result"
    }
   ],
   "source": [
    "# mostra as 5 primeiras linhas do DataFrame\n",
    "df.head()"
   ]
  },
  {
   "cell_type": "code",
   "execution_count": 7,
   "metadata": {},
   "outputs": [
    {
     "data": {
      "text/html": [
       "<div>\n",
       "<style scoped>\n",
       "    .dataframe tbody tr th:only-of-type {\n",
       "        vertical-align: middle;\n",
       "    }\n",
       "\n",
       "    .dataframe tbody tr th {\n",
       "        vertical-align: top;\n",
       "    }\n",
       "\n",
       "    .dataframe thead th {\n",
       "        text-align: right;\n",
       "    }\n",
       "</style>\n",
       "<table border=\"1\" class=\"dataframe\">\n",
       "  <thead>\n",
       "    <tr style=\"text-align: right;\">\n",
       "      <th></th>\n",
       "      <th>sigla_unidade_ensino</th>\n",
       "      <th>nome_unidade_ensino</th>\n",
       "      <th>dt_autorizacao</th>\n",
       "      <th>sigla_uf_unidade_ensino</th>\n",
       "      <th>nome_municipio_unidade_ensino</th>\n",
       "    </tr>\n",
       "  </thead>\n",
       "  <tbody>\n",
       "    <tr>\n",
       "      <td>972</td>\n",
       "      <td>UTFPR</td>\n",
       "      <td>Universidade Tecnológica Federal do Paraná - C...</td>\n",
       "      <td>06/05/2009 15:05:07</td>\n",
       "      <td>PR</td>\n",
       "      <td>Pato Branco</td>\n",
       "    </tr>\n",
       "    <tr>\n",
       "      <td>973</td>\n",
       "      <td>UTFPR</td>\n",
       "      <td>Universidade Tecnológica Federal do Paraná - C...</td>\n",
       "      <td>29/04/2009 16:00:45</td>\n",
       "      <td>PR</td>\n",
       "      <td>Ponta Grossa</td>\n",
       "    </tr>\n",
       "    <tr>\n",
       "      <td>974</td>\n",
       "      <td>NaN</td>\n",
       "      <td>Universidade Tecnológica Federal do Paraná - C...</td>\n",
       "      <td>27/08/2009 14:46:08</td>\n",
       "      <td>PR</td>\n",
       "      <td>Toledo</td>\n",
       "    </tr>\n",
       "    <tr>\n",
       "      <td>975</td>\n",
       "      <td>UTFPR</td>\n",
       "      <td>UNIVERSIDADE TECNOLÓGICA FEDERAL DO PARANÁ CAM...</td>\n",
       "      <td>22/04/2009 16:32:08</td>\n",
       "      <td>PR</td>\n",
       "      <td>Toledo</td>\n",
       "    </tr>\n",
       "    <tr>\n",
       "      <td>976</td>\n",
       "      <td>NaN</td>\n",
       "      <td>universidade tecnologica federal do peraná cam...</td>\n",
       "      <td>27/11/2008 09:43:08</td>\n",
       "      <td>PR</td>\n",
       "      <td>Medianeira</td>\n",
       "    </tr>\n",
       "  </tbody>\n",
       "</table>\n",
       "</div>"
      ],
      "text/plain": [
       "    sigla_unidade_ensino                                nome_unidade_ensino  \\\n",
       "972                UTFPR  Universidade Tecnológica Federal do Paraná - C...   \n",
       "973                UTFPR  Universidade Tecnológica Federal do Paraná - C...   \n",
       "974                  NaN  Universidade Tecnológica Federal do Paraná - C...   \n",
       "975                UTFPR  UNIVERSIDADE TECNOLÓGICA FEDERAL DO PARANÁ CAM...   \n",
       "976                  NaN  universidade tecnologica federal do peraná cam...   \n",
       "\n",
       "          dt_autorizacao sigla_uf_unidade_ensino nome_municipio_unidade_ensino  \n",
       "972  06/05/2009 15:05:07                      PR                   Pato Branco  \n",
       "973  29/04/2009 16:00:45                      PR                  Ponta Grossa  \n",
       "974  27/08/2009 14:46:08                      PR                        Toledo  \n",
       "975  22/04/2009 16:32:08                      PR                        Toledo  \n",
       "976  27/11/2008 09:43:08                      PR                    Medianeira  "
      ]
     },
     "execution_count": 7,
     "metadata": {},
     "output_type": "execute_result"
    }
   ],
   "source": [
    "# mostra as 5 ultimas linhas\n",
    "df.tail()"
   ]
  },
  {
   "cell_type": "code",
   "execution_count": 8,
   "metadata": {},
   "outputs": [
    {
     "data": {
      "text/plain": [
       "sigla_unidade_ensino             794\n",
       "nome_unidade_ensino              977\n",
       "dt_autorizacao                   977\n",
       "sigla_uf_unidade_ensino          977\n",
       "nome_municipio_unidade_ensino    977\n",
       "dtype: int64"
      ]
     },
     "execution_count": 8,
     "metadata": {},
     "output_type": "execute_result"
    }
   ],
   "source": [
    "# quantas escolas tem no arquivo\n",
    "df.count()"
   ]
  },
  {
   "cell_type": "code",
   "execution_count": 9,
   "metadata": {},
   "outputs": [
    {
     "data": {
      "text/html": [
       "<div>\n",
       "<style scoped>\n",
       "    .dataframe tbody tr th:only-of-type {\n",
       "        vertical-align: middle;\n",
       "    }\n",
       "\n",
       "    .dataframe tbody tr th {\n",
       "        vertical-align: top;\n",
       "    }\n",
       "\n",
       "    .dataframe thead th {\n",
       "        text-align: right;\n",
       "    }\n",
       "</style>\n",
       "<table border=\"1\" class=\"dataframe\">\n",
       "  <thead>\n",
       "    <tr style=\"text-align: right;\">\n",
       "      <th></th>\n",
       "      <th>sigla_unidade_ensino</th>\n",
       "      <th>nome_unidade_ensino</th>\n",
       "      <th>dt_autorizacao</th>\n",
       "      <th>sigla_uf_unidade_ensino</th>\n",
       "      <th>nome_municipio_unidade_ensino</th>\n",
       "    </tr>\n",
       "  </thead>\n",
       "  <tbody>\n",
       "    <tr>\n",
       "      <td>count</td>\n",
       "      <td>794</td>\n",
       "      <td>977</td>\n",
       "      <td>977</td>\n",
       "      <td>977</td>\n",
       "      <td>977</td>\n",
       "    </tr>\n",
       "    <tr>\n",
       "      <td>unique</td>\n",
       "      <td>58</td>\n",
       "      <td>964</td>\n",
       "      <td>976</td>\n",
       "      <td>27</td>\n",
       "      <td>726</td>\n",
       "    </tr>\n",
       "    <tr>\n",
       "      <td>top</td>\n",
       "      <td>IFMG</td>\n",
       "      <td>CENTRO FEDERAL DE EDUCAÇÃO TÉCNOLOGICA DE MINA...</td>\n",
       "      <td>21/11/2008 09:17:36</td>\n",
       "      <td>MG</td>\n",
       "      <td>Rio de Janeiro</td>\n",
       "    </tr>\n",
       "    <tr>\n",
       "      <td>freq</td>\n",
       "      <td>85</td>\n",
       "      <td>3</td>\n",
       "      <td>2</td>\n",
       "      <td>205</td>\n",
       "      <td>25</td>\n",
       "    </tr>\n",
       "  </tbody>\n",
       "</table>\n",
       "</div>"
      ],
      "text/plain": [
       "       sigla_unidade_ensino  \\\n",
       "count                   794   \n",
       "unique                   58   \n",
       "top                    IFMG   \n",
       "freq                     85   \n",
       "\n",
       "                                      nome_unidade_ensino  \\\n",
       "count                                                 977   \n",
       "unique                                                964   \n",
       "top     CENTRO FEDERAL DE EDUCAÇÃO TÉCNOLOGICA DE MINA...   \n",
       "freq                                                    3   \n",
       "\n",
       "             dt_autorizacao sigla_uf_unidade_ensino  \\\n",
       "count                   977                     977   \n",
       "unique                  976                      27   \n",
       "top     21/11/2008 09:17:36                      MG   \n",
       "freq                      2                     205   \n",
       "\n",
       "       nome_municipio_unidade_ensino  \n",
       "count                            977  \n",
       "unique                           726  \n",
       "top                   Rio de Janeiro  \n",
       "freq                              25  "
      ]
     },
     "execution_count": 9,
     "metadata": {},
     "output_type": "execute_result"
    }
   ],
   "source": [
    "# descreve as colunas numéricas\n",
    "df.describe()"
   ]
  },
  {
   "cell_type": "code",
   "execution_count": 10,
   "metadata": {},
   "outputs": [
    {
     "data": {
      "text/plain": [
       "sigla_unidade_ensino             object\n",
       "nome_unidade_ensino              object\n",
       "dt_autorizacao                   object\n",
       "sigla_uf_unidade_ensino          object\n",
       "nome_municipio_unidade_ensino    object\n",
       "dtype: object"
      ]
     },
     "execution_count": 10,
     "metadata": {},
     "output_type": "execute_result"
    }
   ],
   "source": [
    "# mostrar os tipos de cada coluna do DataFrame\n",
    "df.dtypes"
   ]
  },
  {
   "cell_type": "code",
   "execution_count": 11,
   "metadata": {},
   "outputs": [
    {
     "data": {
      "text/plain": [
       "MG    205\n",
       "RJ     70\n",
       "RS     66\n",
       "SP     61\n",
       "PR     60\n",
       "CE     47\n",
       "BA     44\n",
       "SC     42\n",
       "MA     32\n",
       "PI     32\n",
       "PE     31\n",
       "GO     30\n",
       "RN     29\n",
       "PB     28\n",
       "PA     26\n",
       "ES     23\n",
       "MT     23\n",
       "AM     22\n",
       "AL     21\n",
       "DF     20\n",
       "SE     12\n",
       "TO     11\n",
       "MS     11\n",
       "RO     10\n",
       "RR      7\n",
       "AP      7\n",
       "AC      7\n",
       "Name: sigla_uf_unidade_ensino, dtype: int64"
      ]
     },
     "execution_count": 11,
     "metadata": {},
     "output_type": "execute_result"
    }
   ],
   "source": [
    "# quantas escolas existem em cada estado do Brasil\n",
    "df[\"sigla_uf_unidade_ensino\"].value_counts()"
   ]
  },
  {
   "cell_type": "code",
   "execution_count": 14,
   "metadata": {},
   "outputs": [
    {
     "data": {
      "text/plain": [
       "<matplotlib.axes._subplots.AxesSubplot at 0x7fbe25b9a350>"
      ]
     },
     "execution_count": 14,
     "metadata": {},
     "output_type": "execute_result"
    },
    {
     "data": {
      "image/png": "[encoded data removed]",
      "text/plain": [
       "<Figure size 432x288 with 1 Axes>"
      ]
     },
     "metadata": {
      "needs_background": "light"
     },
     "output_type": "display_data"
    }
   ],
   "source": [
    "# mostrando os dados em um grafico\n",
    "# pegar as escolas por UF e mostrar em um grafico de barras\n",
    "\n",
    "df[\"sigla_uf_unidade_ensino\"].value_counts().plot.bar()"
   ]
  },
  {
   "cell_type": "code",
   "execution_count": null,
   "metadata": {},
   "outputs": [],
   "source": []
  }
 ],
 "metadata": {
  "kernelspec": {
   "display_name": "Python 3",
   "language": "python",
   "name": "python3"
  },
  "language_info": {
   "codemirror_mode": {
    "name": "ipython",
    "version": 3
   },
   "file_extension": ".py",
   "mimetype": "text/x-python",
   "name": "python",
   "nbconvert_exporter": "python",
   "pygments_lexer": "ipython3",
   "version": "3.7.4"
  }
 },
 "nbformat": 4,
 "nbformat_minor": 2
}
